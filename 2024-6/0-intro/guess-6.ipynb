{
 "cells": [
  {
   "cell_type": "code",
   "id": "initial_id",
   "metadata": {
    "collapsed": true,
    "ExecuteTime": {
     "end_time": "2024-09-19T15:35:29.342946Z",
     "start_time": "2024-09-19T15:34:03.014089Z"
    }
   },
   "source": [
    "import tkinter as tk\n",
    "from random import randint\n",
    "\n",
    "class GuessTheNumberGame:\n",
    "    def __init__(self, root):\n",
    "        self.number = randint(1, 100)\n",
    "        self.attempts = 0\n",
    "\n",
    "        # Label for prompt\n",
    "        self.prompt_label = tk.Label(root, text=\"Guess a number between 1 and 100:\")\n",
    "        self.prompt_label.pack()\n",
    "\n",
    "        # Entry for the user's guess\n",
    "        self.guess_input = tk.Entry(root)\n",
    "        self.guess_input.pack()\n",
    "\n",
    "        # Label for feedback\n",
    "        self.feedback_label = tk.Label(root, text=\"\")\n",
    "        self.feedback_label.pack()\n",
    "\n",
    "        # Submit button\n",
    "        self.submit_button = tk.Button(root, text=\"Submit\", command=self.check_guess)\n",
    "        self.submit_button.pack()\n",
    "\n",
    "        # Restart button\n",
    "        self.restart_button = tk.Button(root, text=\"Restart\", command=self.restart_game)\n",
    "        self.restart_button.pack()\n",
    "\n",
    "    def check_guess(self):\n",
    "        try:\n",
    "            guess = int(self.guess_input.get())\n",
    "            self.attempts += 1\n",
    "\n",
    "            if guess < self.number:\n",
    "                self.feedback_label.config(text=\"Too low!\")\n",
    "            elif guess > self.number:\n",
    "                self.feedback_label.config(text=\"Too high!\")\n",
    "            else:\n",
    "                self.feedback_label.config(text=f\"Correct! You guessed it in {self.attempts} attempts.\")\n",
    "        except ValueError:\n",
    "            self.feedback_label.config(text=\"Please enter a valid number.\")\n",
    "\n",
    "    def restart_game(self):\n",
    "        self.number = randint(1, 100)\n",
    "        self.attempts = 0\n",
    "        self.feedback_label.config(text=\"\")\n",
    "        self.guess_input.delete(0, tk.END)\n",
    "\n",
    "# Set up the Tkinter window\n",
    "root = tk.Tk()\n",
    "root.title(\"Guess the Number\")\n",
    "root.geometry(\"300x200\")\n",
    "app = GuessTheNumberGame(root)\n",
    "root.mainloop()\n"
   ],
   "outputs": [],
   "execution_count": 1
  },
  {
   "metadata": {},
   "cell_type": "code",
   "outputs": [],
   "execution_count": null,
   "source": "",
   "id": "5eed0bce80d42200"
  }
 ],
 "metadata": {
  "kernelspec": {
   "display_name": "Python 3",
   "language": "python",
   "name": "python3"
  },
  "language_info": {
   "codemirror_mode": {
    "name": "ipython",
    "version": 2
   },
   "file_extension": ".py",
   "mimetype": "text/x-python",
   "name": "python",
   "nbconvert_exporter": "python",
   "pygments_lexer": "ipython2",
   "version": "2.7.6"
  }
 },
 "nbformat": 4,
 "nbformat_minor": 5
}
