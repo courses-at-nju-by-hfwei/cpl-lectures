{
 "cells": [
  {
   "cell_type": "code",
   "id": "initial_id",
   "metadata": {
    "collapsed": true,
    "ExecuteTime": {
     "end_time": "2024-09-19T05:24:39.677985Z",
     "start_time": "2024-09-19T05:24:00.101300Z"
    }
   },
   "source": [
    "import tkinter as tk\n",
    "from tkinter import messagebox\n",
    "import random\n",
    "\n",
    "class GuessTheNumberGame:\n",
    "    def __init__(self, root):\n",
    "        self.root = root\n",
    "        self.root.title(\"Guess the Number\")\n",
    "        self.secret_number = random.randint(1, 100)\n",
    "        self.attempts = 0\n",
    "\n",
    "        # GUI Components\n",
    "        self.label = tk.Label(root, text=\"Guess a number between 1 and 100\")\n",
    "        self.label.pack(pady=10)\n",
    "\n",
    "        self.entry = tk.Entry(root)\n",
    "        self.entry.pack(pady=10)\n",
    "\n",
    "        self.button = tk.Button(root, text=\"Submit Guess\", command=self.check_guess)\n",
    "        self.button.pack(pady=10)\n",
    "\n",
    "        self.result_label = tk.Label(root, text=\"\")\n",
    "        self.result_label.pack(pady=10)\n",
    "\n",
    "    def check_guess(self):\n",
    "        try:\n",
    "            guess = int(self.entry.get())\n",
    "        except ValueError:\n",
    "            messagebox.showerror(\"Invalid input\", \"Please enter a valid number\")\n",
    "            return\n",
    "\n",
    "        self.attempts += 1\n",
    "\n",
    "        if guess < self.secret_number:\n",
    "            self.result_label.config(text=\"Too low! Try again.\")\n",
    "        elif guess > self.secret_number:\n",
    "            self.result_label.config(text=\"Too high! Try again.\")\n",
    "        else:\n",
    "            self.result_label.config(text=f\"Correct! You guessed it in {self.attempts} attempts.\")\n",
    "            self.button.config(state=\"disabled\")\n",
    "            self.entry.config(state=\"disabled\")\n",
    "\n",
    "if __name__ == \"__main__\":\n",
    "    root = tk.Tk()\n",
    "    game = GuessTheNumberGame(root)\n",
    "    root.mainloop()\n"
   ],
   "outputs": [],
   "execution_count": 1
  },
  {
   "metadata": {},
   "cell_type": "code",
   "outputs": [],
   "execution_count": null,
   "source": "",
   "id": "28b82964b83cb151"
  }
 ],
 "metadata": {
  "kernelspec": {
   "display_name": "Python 3",
   "language": "python",
   "name": "python3"
  },
  "language_info": {
   "codemirror_mode": {
    "name": "ipython",
    "version": 2
   },
   "file_extension": ".py",
   "mimetype": "text/x-python",
   "name": "python",
   "nbconvert_exporter": "python",
   "pygments_lexer": "ipython2",
   "version": "2.7.6"
  }
 },
 "nbformat": 4,
 "nbformat_minor": 5
}
