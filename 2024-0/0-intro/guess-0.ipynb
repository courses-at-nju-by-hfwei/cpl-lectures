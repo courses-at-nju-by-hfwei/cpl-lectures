{
 "cells": [
  {
   "cell_type": "code",
   "id": "initial_id",
   "metadata": {
    "collapsed": true,
    "ExecuteTime": {
     "end_time": "2024-09-20T10:33:49.157897Z",
     "start_time": "2024-09-20T10:33:22.880401Z"
    }
   },
   "source": [
    "import tkinter as tk\n",
    "from tkinter import messagebox\n",
    "import random\n",
    "\n",
    "# Function to start a new game\n",
    "def start_new_game():\n",
    "    global secret_number, attempts\n",
    "    secret_number = random.randint(1, 100)\n",
    "    attempts = 0\n",
    "    feedback_label.config(text=\"I've picked a number between 1 and 100. Try to guess it!\")\n",
    "    guess_entry.delete(0, tk.END)\n",
    "\n",
    "# Function to process the player's guess\n",
    "def check_guess():\n",
    "    global attempts\n",
    "    try:\n",
    "        guess = int(guess_entry.get())\n",
    "        attempts += 1\n",
    "\n",
    "        if guess < secret_number:\n",
    "            feedback_label.config(text=\"Too low!\")\n",
    "        elif guess > secret_number:\n",
    "            feedback_label.config(text=\"Too high!\")\n",
    "        else:\n",
    "            messagebox.showinfo(\"Congratulations!\", f\"You guessed it in {attempts} attempts!\")\n",
    "            start_new_game()\n",
    "\n",
    "        if attempts >= max_attempts and guess != secret_number:\n",
    "            messagebox.showinfo(\"Game Over\", f\"Sorry! The number was {secret_number}.\")\n",
    "            start_new_game()\n",
    "\n",
    "    except ValueError:\n",
    "        feedback_label.config(text=\"Please enter a valid number.\")\n",
    "\n",
    "    guess_entry.delete(0, tk.END)\n",
    "\n",
    "# Initialize the game window\n",
    "window = tk.Tk()\n",
    "window.title(\"Guess the Number Game\")\n",
    "window.geometry(\"400x200\")\n",
    "\n",
    "# Set game variables\n",
    "secret_number = random.randint(1, 100)\n",
    "attempts = 0\n",
    "max_attempts = 7\n",
    "\n",
    "# Add UI components\n",
    "feedback_label = tk.Label(window, text=\"I've picked a number between 1 and 100. Try to guess it!\")\n",
    "feedback_label.pack(pady=10)\n",
    "\n",
    "guess_entry = tk.Entry(window, width=10)\n",
    "guess_entry.pack(pady=5)\n",
    "\n",
    "guess_button = tk.Button(window, text=\"Submit Guess\", command=check_guess)\n",
    "guess_button.pack(pady=5)\n",
    "\n",
    "reset_button = tk.Button(window, text=\"Reset Game\", command=start_new_game)\n",
    "reset_button.pack(pady=5)\n",
    "\n",
    "# Start the game\n",
    "start_new_game()\n",
    "\n",
    "# Start the GUI event loop\n",
    "window.mainloop()\n"
   ],
   "outputs": [],
   "execution_count": 1
  },
  {
   "metadata": {},
   "cell_type": "code",
   "outputs": [],
   "execution_count": null,
   "source": "",
   "id": "6a24f29a30a660ae"
  }
 ],
 "metadata": {
  "kernelspec": {
   "display_name": "Python 3",
   "language": "python",
   "name": "python3"
  },
  "language_info": {
   "codemirror_mode": {
    "name": "ipython",
    "version": 2
   },
   "file_extension": ".py",
   "mimetype": "text/x-python",
   "name": "python",
   "nbconvert_exporter": "python",
   "pygments_lexer": "ipython2",
   "version": "2.7.6"
  }
 },
 "nbformat": 4,
 "nbformat_minor": 5
}
